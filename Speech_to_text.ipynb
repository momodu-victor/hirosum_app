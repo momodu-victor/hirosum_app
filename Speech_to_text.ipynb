{
  "nbformat": 4,
  "nbformat_minor": 0,
  "metadata": {
    "colab": {
      "provenance": []
    },
    "kernelspec": {
      "name": "python3",
      "display_name": "Python 3"
    },
    "language_info": {
      "name": "python"
    }
  },
  "cells": [
    {
      "cell_type": "code",
      "source": [
        "# Authenticate API\n",
        "import requests\n",
        "import pprint\n",
        "import json\n",
        "import time\n",
        "\n",
        "auth_key = 'a6cc25c4b313444ebb1c12c1ad27d354'\n",
        "\n",
        "upload_endpoint = 'https://api.assemblyai.com/v2/upload'\n",
        "transcript_endpoint = 'https://api.assemblyai.com/v2/transcript'\n",
        "\n",
        "headers_auth_only = {'authorization': auth_key}\n",
        "\n",
        "headers = {\n",
        "    \"authorization\": auth_key,\n",
        "    \"content-type\": \"application/json\"\n",
        "}\n",
        "\n",
        "CHUNK_SIZE = 5_242_880  # 5MB\n"
      ],
      "metadata": {
        "id": "lzihKtGHKgUi"
      },
      "execution_count": null,
      "outputs": []
    },
    {
      "cell_type": "code",
      "source": [
        "def upload(filename):\n",
        "    def read_file(filename):\n",
        "        with open(filename, 'rb') as f:\n",
        "            while True:\n",
        "                data = f.read(CHUNK_SIZE)\n",
        "                if not data:\n",
        "                    break\n",
        "                yield data\n",
        "    upload_response = requests.post(upload_endpoint, headers=headers_auth_only, data=read_file(filename))\n",
        "    pprint.pprint(upload_response.json())\n",
        "    return upload_response.json()['upload_url']\n"
      ],
      "metadata": {
        "id": "XDYrjTg8KDY3"
      },
      "execution_count": null,
      "outputs": []
    },
    {
      "cell_type": "code",
      "source": [
        "def transcribe(audio_url):\n",
        "    transcript_request = {\n",
        "        'audio_url': audio_url,\n",
        "        'auto_chapters': True,\n",
        "        'auto_highlights': True\n",
        "    }\n",
        "\n",
        "    transcript_response = requests.post(transcript_endpoint,\n",
        "                                        json=transcript_request,\n",
        "                                        headers=headers)\n",
        "    pprint.pprint(transcript_response.json())\n",
        "    return transcript_response.json()['id']"
      ],
      "metadata": {
        "id": "cCAQUhK8TBIX"
      },
      "execution_count": null,
      "outputs": []
    },
    {
      "cell_type": "code",
      "source": [
        "def poll(transcript_id):\n",
        "    polling_endpoint = transcript_endpoint + '/' + transcript_id\n",
        "    polling_response = requests.get(polling_endpoint, headers=headers)\n",
        "\n",
        "    if polling_response.json()['status'] == 'completed':\n",
        "        filename = transcript_id + '.txt'\n",
        "        with open(filename, 'w') as f:\n",
        "            f.write(polling_response.json()['text'])\n",
        "\n",
        "        filename = transcript_id + '_chapters.json'\n",
        "        with open(filename, 'w') as f:\n",
        "            chapters = polling_response.json()['chapters']\n",
        "            json.dump(chapters, f, indent=4)\n",
        "            \n",
        "        filename = transcript_id + '_highlights.json'\n",
        "        with open(filename, 'w') as f:\n",
        "            data = polling_response.json()['auto_highlights_result']\n",
        "            json.dump(data, f, indent=4)\n",
        "\n",
        "        print('Transcript saved')\n",
        "        return True\n",
        "    return False"
      ],
      "metadata": {
        "id": "XwQckoRXTjbB"
      },
      "execution_count": null,
      "outputs": []
    },
    {
      "cell_type": "code",
      "source": [
        "def pipeline(filename):\n",
        "    audio_url = upload(filename)\n",
        "    transcribe_id = transcribe(audio_url)\n",
        "    while True:\n",
        "        result = poll(transcribe_id)\n",
        "        if result:\n",
        "            break\n",
        "        print(\"waiting for 60 seconds\")\n",
        "        time.sleep(60)\n",
        "\n",
        "\n",
        "if __name__ == '__main__':\n",
        "   pipeline('/content/drive/MyDrive/DSC_audio.mp3')"
      ],
      "metadata": {
        "colab": {
          "base_uri": "https://localhost:8080/"
        },
        "id": "FrA44kn3og07",
        "outputId": "4e601254-0c35-4e71-8193-37c9b40d3a0c"
      },
      "execution_count": null,
      "outputs": [
        {
          "output_type": "stream",
          "name": "stdout",
          "text": [
            "{'upload_url': 'https://cdn.assemblyai.com/upload/d43b5494-ceef-4976-b514-44480ecc3f20'}\n",
            "{'acoustic_model': 'assemblyai_default',\n",
            " 'audio_duration': None,\n",
            " 'audio_end_at': None,\n",
            " 'audio_start_from': None,\n",
            " 'audio_url': 'https://cdn.assemblyai.com/upload/d43b5494-ceef-4976-b514-44480ecc3f20',\n",
            " 'auto_chapters': True,\n",
            " 'auto_highlights': True,\n",
            " 'auto_highlights_result': None,\n",
            " 'boost_param': None,\n",
            " 'chapters': None,\n",
            " 'cluster_id': None,\n",
            " 'confidence': None,\n",
            " 'content_safety': False,\n",
            " 'content_safety_labels': {},\n",
            " 'custom_spelling': None,\n",
            " 'disfluencies': False,\n",
            " 'dual_channel': None,\n",
            " 'entities': None,\n",
            " 'entity_detection': False,\n",
            " 'filter_profanity': False,\n",
            " 'format_text': True,\n",
            " 'iab_categories': False,\n",
            " 'iab_categories_result': {},\n",
            " 'id': 'rbl19gtgt7-18ea-46ed-a4ec-b16f364df22b',\n",
            " 'language_code': 'en_us',\n",
            " 'language_detection': False,\n",
            " 'language_model': 'assemblyai_default',\n",
            " 'punctuate': True,\n",
            " 'redact_pii': False,\n",
            " 'redact_pii_audio': False,\n",
            " 'redact_pii_audio_quality': None,\n",
            " 'redact_pii_policies': None,\n",
            " 'redact_pii_sub': None,\n",
            " 'sentiment_analysis': False,\n",
            " 'sentiment_analysis_results': None,\n",
            " 'speaker_labels': False,\n",
            " 'speed_boost': False,\n",
            " 'status': 'queued',\n",
            " 'summarization': False,\n",
            " 'summary_model': None,\n",
            " 'summary_type': None,\n",
            " 'text': None,\n",
            " 'throttled': None,\n",
            " 'utterances': None,\n",
            " 'webhook_auth': False,\n",
            " 'webhook_auth_header_name': None,\n",
            " 'webhook_status_code': None,\n",
            " 'webhook_url': None,\n",
            " 'word_boost': [],\n",
            " 'words': None}\n",
            "waiting for 60 seconds\n",
            "waiting for 60 seconds\n",
            "waiting for 60 seconds\n",
            "waiting for 60 seconds\n",
            "waiting for 60 seconds\n",
            "waiting for 60 seconds\n",
            "waiting for 60 seconds\n",
            "waiting for 60 seconds\n",
            "Transcript saved\n"
          ]
        }
      ]
    }
  ]
}